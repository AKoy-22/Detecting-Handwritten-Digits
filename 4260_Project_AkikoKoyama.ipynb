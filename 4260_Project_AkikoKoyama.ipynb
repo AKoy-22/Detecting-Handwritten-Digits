{
 "cells": [
  {
   "cell_type": "markdown",
   "id": "dc7cc760",
   "metadata": {},
   "source": [
    "# Detecting Handwritten Digits Using Multilayer Perceptron\n",
    "## --- Using Keras Sequential Model"
   ]
  },
  {
   "cell_type": "markdown",
   "id": "e5c2c57f",
   "metadata": {},
   "source": [
    "## Import Libraries"
   ]
  },
  {
   "cell_type": "code",
   "execution_count": 1,
   "id": "db15464e",
   "metadata": {},
   "outputs": [],
   "source": [
    "#import libraries\n",
    "import numpy as np\n",
    "from numpy.random import seed\n",
    "seed(888)\n",
    "\n",
    "import idx2numpy\n",
    "import matplotlib.pyplot as plt\n",
    "import gzip\n",
    "\n",
    "import tensorflow.compat.v1 as tf\n",
    "from tensorflow.compat.v1 import keras\n",
    "from keras.models import Sequential\n",
    "from keras.layers import Dense, Activation, Dropout\n",
    "from keras.callbacks import TensorBoard, EarlyStopping\n",
    "tf.set_random_seed(777)\n",
    "import time\n",
    "from time import strftime\n",
    "import os\n",
    "import itertools\n",
    "from sklearn.metrics import confusion_matrix\n",
    "%matplotlib inline"
   ]
  },
  {
   "cell_type": "markdown",
   "id": "5fff3b26",
   "metadata": {},
   "source": [
    "## Load Data"
   ]
  },
  {
   "cell_type": "code",
   "execution_count": 2,
   "id": "326c4daf",
   "metadata": {},
   "outputs": [],
   "source": [
    "#import images\n",
    "# training data \n",
    "train_img = gzip.open('train-images-idx3-ubyte.gz','r')\n",
    "train_img_array = idx2numpy.convert_from_file(train_img)\n",
    "# tseting data\n",
    "test_img = gzip.open('t10k-images-idx3-ubyte.gz','r')\n",
    "test_img_array = idx2numpy.convert_from_file(test_img)"
   ]
  },
  {
   "cell_type": "code",
   "execution_count": 3,
   "id": "39cf52dd",
   "metadata": {},
   "outputs": [],
   "source": [
    "# import labels\n",
    "# train label data \n",
    "train_label = gzip.open('train-labels-idx1-ubyte.gz','r')\n",
    "train_label_array = idx2numpy.convert_from_file(train_label)\n",
    "\n",
    "#test label data\n",
    "test_label = gzip.open('t10k-labels-idx1-ubyte.gz','r')\n",
    "test_label_array = idx2numpy.convert_from_file(test_label)\n"
   ]
  },
  {
   "cell_type": "markdown",
   "id": "28b5cebe",
   "metadata": {},
   "source": [
    "## Data Exploration"
   ]
  },
  {
   "cell_type": "code",
   "execution_count": 4,
   "id": "7c147dfa",
   "metadata": {},
   "outputs": [
    {
     "data": {
      "text/plain": [
       "(60000, 28, 28)"
      ]
     },
     "execution_count": 4,
     "metadata": {},
     "output_type": "execute_result"
    }
   ],
   "source": [
    "train_img_array.shape"
   ]
  },
  {
   "cell_type": "code",
   "execution_count": 5,
   "id": "9b258784",
   "metadata": {},
   "outputs": [
    {
     "data": {
      "text/plain": [
       "(10000, 28, 28)"
      ]
     },
     "execution_count": 5,
     "metadata": {},
     "output_type": "execute_result"
    }
   ],
   "source": [
    "test_img_array.shape"
   ]
  },
  {
   "cell_type": "code",
   "execution_count": 6,
   "id": "128459c7",
   "metadata": {},
   "outputs": [
    {
     "data": {
      "text/plain": [
       "numpy.ndarray"
      ]
     },
     "execution_count": 6,
     "metadata": {},
     "output_type": "execute_result"
    }
   ],
   "source": [
    "type(train_img_array)"
   ]
  },
  {
   "cell_type": "code",
   "execution_count": 7,
   "id": "b5ac7374",
   "metadata": {},
   "outputs": [
    {
     "data": {
      "text/plain": [
       "(60000,)"
      ]
     },
     "execution_count": 7,
     "metadata": {},
     "output_type": "execute_result"
    }
   ],
   "source": [
    "train_label_array.shape"
   ]
  },
  {
   "cell_type": "code",
   "execution_count": 8,
   "id": "d4fade8b",
   "metadata": {},
   "outputs": [
    {
     "data": {
      "text/plain": [
       "(10000,)"
      ]
     },
     "execution_count": 8,
     "metadata": {},
     "output_type": "execute_result"
    }
   ],
   "source": [
    "test_label_array.shape"
   ]
  },
  {
   "cell_type": "code",
   "execution_count": 9,
   "id": "413b4283",
   "metadata": {},
   "outputs": [
    {
     "data": {
      "text/plain": [
       "array([[  0,   0,   0,   0,   0,   0,   0,   0,   0,   0,   0,   0,   0,\n",
       "          0,   0,   0,   0,   0,   0,   0,   0,   0,   0,   0,   0,   0,\n",
       "          0,   0],\n",
       "       [  0,   0,   0,   0,   0,   0,   0,   0,   0,   0,   0,   0,   0,\n",
       "          0,   0,   0,   0,   0,   0,   0,   0,   0,   0,   0,   0,   0,\n",
       "          0,   0],\n",
       "       [  0,   0,   0,   0,   0,   0,   0,   0,   0,   0,   0,   0,   0,\n",
       "          0,   0,   0,   0,   0,   0,   0,   0,   0,   0,   0,   0,   0,\n",
       "          0,   0],\n",
       "       [  0,   0,   0,   0,   0,   0,   0,   0,   0,   0,   0,   0,   0,\n",
       "          0,   0,   0,   0,   0,   0,   0,   0,   0,   0,   0,   0,   0,\n",
       "          0,   0],\n",
       "       [  0,   0,   0,   0,   0,   0,   0,   0,   0,   0,   0,   0,   0,\n",
       "          0,   0,   0,   0,   0,   0,   0,   0,   0,   0,   0,   0,   0,\n",
       "          0,   0],\n",
       "       [  0,   0,   0,   0,   0,   0,   0,   0,   0,   0,   0,   0,   0,\n",
       "          0,   0,   0,   0,   0,   0,   0,   0,   0,   0,   0,   0,   0,\n",
       "          0,   0],\n",
       "       [  0,   0,   0,   0,   0,   0,   0,   0,   0,   0,   0,   0,   0,\n",
       "          0,   0,   0,   0,   0,   0,   0,   0,   0,   0,   0,   0,   0,\n",
       "          0,   0],\n",
       "       [  0,   0,   0,   0,   0,   0,   0,   0,   0,   0,   0,   0,  55,\n",
       "        148, 210, 253, 253, 113,  87, 148,  55,   0,   0,   0,   0,   0,\n",
       "          0,   0],\n",
       "       [  0,   0,   0,   0,   0,   0,   0,   0,   0,   0,   0,  87, 232,\n",
       "        252, 253, 189, 210, 252, 252, 253, 168,   0,   0,   0,   0,   0,\n",
       "          0,   0],\n",
       "       [  0,   0,   0,   0,   0,   0,   0,   0,   0,   4,  57, 242, 252,\n",
       "        190,  65,   5,  12, 182, 252, 253, 116,   0,   0,   0,   0,   0,\n",
       "          0,   0],\n",
       "       [  0,   0,   0,   0,   0,   0,   0,   0,   0,  96, 252, 252, 183,\n",
       "         14,   0,   0,  92, 252, 252, 225,  21,   0,   0,   0,   0,   0,\n",
       "          0,   0],\n",
       "       [  0,   0,   0,   0,   0,   0,   0,   0, 132, 253, 252, 146,  14,\n",
       "          0,   0,   0, 215, 252, 252,  79,   0,   0,   0,   0,   0,   0,\n",
       "          0,   0],\n",
       "       [  0,   0,   0,   0,   0,   0,   0, 126, 253, 247, 176,   9,   0,\n",
       "          0,   8,  78, 245, 253, 129,   0,   0,   0,   0,   0,   0,   0,\n",
       "          0,   0],\n",
       "       [  0,   0,   0,   0,   0,   0,  16, 232, 252, 176,   0,   0,   0,\n",
       "         36, 201, 252, 252, 169,  11,   0,   0,   0,   0,   0,   0,   0,\n",
       "          0,   0],\n",
       "       [  0,   0,   0,   0,   0,   0,  22, 252, 252,  30,  22, 119, 197,\n",
       "        241, 253, 252, 251,  77,   0,   0,   0,   0,   0,   0,   0,   0,\n",
       "          0,   0],\n",
       "       [  0,   0,   0,   0,   0,   0,  16, 231, 252, 253, 252, 252, 252,\n",
       "        226, 227, 252, 231,   0,   0,   0,   0,   0,   0,   0,   0,   0,\n",
       "          0,   0],\n",
       "       [  0,   0,   0,   0,   0,   0,   0,  55, 235, 253, 217, 138,  42,\n",
       "         24, 192, 252, 143,   0,   0,   0,   0,   0,   0,   0,   0,   0,\n",
       "          0,   0],\n",
       "       [  0,   0,   0,   0,   0,   0,   0,   0,   0,   0,   0,   0,   0,\n",
       "         62, 255, 253, 109,   0,   0,   0,   0,   0,   0,   0,   0,   0,\n",
       "          0,   0],\n",
       "       [  0,   0,   0,   0,   0,   0,   0,   0,   0,   0,   0,   0,   0,\n",
       "         71, 253, 252,  21,   0,   0,   0,   0,   0,   0,   0,   0,   0,\n",
       "          0,   0],\n",
       "       [  0,   0,   0,   0,   0,   0,   0,   0,   0,   0,   0,   0,   0,\n",
       "          0, 253, 252,  21,   0,   0,   0,   0,   0,   0,   0,   0,   0,\n",
       "          0,   0],\n",
       "       [  0,   0,   0,   0,   0,   0,   0,   0,   0,   0,   0,   0,   0,\n",
       "         71, 253, 252,  21,   0,   0,   0,   0,   0,   0,   0,   0,   0,\n",
       "          0,   0],\n",
       "       [  0,   0,   0,   0,   0,   0,   0,   0,   0,   0,   0,   0,   0,\n",
       "        106, 253, 252,  21,   0,   0,   0,   0,   0,   0,   0,   0,   0,\n",
       "          0,   0],\n",
       "       [  0,   0,   0,   0,   0,   0,   0,   0,   0,   0,   0,   0,   0,\n",
       "         45, 255, 253,  21,   0,   0,   0,   0,   0,   0,   0,   0,   0,\n",
       "          0,   0],\n",
       "       [  0,   0,   0,   0,   0,   0,   0,   0,   0,   0,   0,   0,   0,\n",
       "          0, 218, 252,  56,   0,   0,   0,   0,   0,   0,   0,   0,   0,\n",
       "          0,   0],\n",
       "       [  0,   0,   0,   0,   0,   0,   0,   0,   0,   0,   0,   0,   0,\n",
       "          0,  96, 252, 189,  42,   0,   0,   0,   0,   0,   0,   0,   0,\n",
       "          0,   0],\n",
       "       [  0,   0,   0,   0,   0,   0,   0,   0,   0,   0,   0,   0,   0,\n",
       "          0,  14, 184, 252, 170,  11,   0,   0,   0,   0,   0,   0,   0,\n",
       "          0,   0],\n",
       "       [  0,   0,   0,   0,   0,   0,   0,   0,   0,   0,   0,   0,   0,\n",
       "          0,   0,  14, 147, 252,  42,   0,   0,   0,   0,   0,   0,   0,\n",
       "          0,   0],\n",
       "       [  0,   0,   0,   0,   0,   0,   0,   0,   0,   0,   0,   0,   0,\n",
       "          0,   0,   0,   0,   0,   0,   0,   0,   0,   0,   0,   0,   0,\n",
       "          0,   0]], dtype=uint8)"
      ]
     },
     "execution_count": 9,
     "metadata": {},
     "output_type": "execute_result"
    }
   ],
   "source": [
    "#train image index 4 \n",
    "train_img_array[4]"
   ]
  },
  {
   "cell_type": "code",
   "execution_count": 10,
   "id": "01455189",
   "metadata": {},
   "outputs": [],
   "source": [
    "# ****NEEDS TO BE COMMENTED OUT WHEN RUNNING MODEL. CAUSES KERNEL TO DIE*****\n",
    "# display as an image\n",
    "#plt.imshow(train_img_array [4], cmap=plt.cm.binary)"
   ]
  },
  {
   "cell_type": "code",
   "execution_count": 11,
   "id": "f67ddb62",
   "metadata": {},
   "outputs": [
    {
     "data": {
      "text/plain": [
       "array([[  0,   0,   0,   0,   0,   0,   0,   0,   0,   0,   0,   0,   0,\n",
       "          0,   0,   0,   0,   0,   0,   0,   0,   0,   0,   0,   0,   0,\n",
       "          0,   0],\n",
       "       [  0,   0,   0,   0,   0,   0,   0,   0,   0,   0,   0,   0,   0,\n",
       "          0,   0,   0,   0,   0,   0,   0,   0,   0,   0,   0,   0,   0,\n",
       "          0,   0],\n",
       "       [  0,   0,   0,   0,   0,   0,   0,   0,   0,   0,   0,   0,   0,\n",
       "          0,   0,   0,   0,   0,   0,   0,   0,   0,   0,   0,   0,   0,\n",
       "          0,   0],\n",
       "       [  0,   0,   0,   0,   0,   0,   0,   0,   0,   0,   0,   0,   0,\n",
       "          0,   0,   0,   0,   0,   0,   0,   0,   0,   0,   0,   0,   0,\n",
       "          0,   0],\n",
       "       [  0,   0,   0,   0,   0,   0,   0,   0,   0,   0,   0,   0,   0,\n",
       "          0,   0,   0,   0,   0,   0,   0,   0,   0,   0,   0,   0,   0,\n",
       "          0,   0],\n",
       "       [  0,   0,   0,   0,   0,   0,   0,   0,   0,   0,   0,   0,   0,\n",
       "          0,   0,   0,   0,   0,   0,   0,   0,   0,   0,   0,   0,   0,\n",
       "          0,   0],\n",
       "       [  0,   0,   0,   0,   0,   0,   0,   0,   0,   0,   0,   0,   0,\n",
       "          0,   0,   0,   0,   0,   0,   0,   0,   0,   0,   0,   0,   0,\n",
       "          0,   0],\n",
       "       [  0,   0,   0,   0,   0,   0,  84, 185, 159, 151,  60,  36,   0,\n",
       "          0,   0,   0,   0,   0,   0,   0,   0,   0,   0,   0,   0,   0,\n",
       "          0,   0],\n",
       "       [  0,   0,   0,   0,   0,   0, 222, 254, 254, 254, 254, 241, 198,\n",
       "        198, 198, 198, 198, 198, 198, 198, 170,  52,   0,   0,   0,   0,\n",
       "          0,   0],\n",
       "       [  0,   0,   0,   0,   0,   0,  67, 114,  72, 114, 163, 227, 254,\n",
       "        225, 254, 254, 254, 250, 229, 254, 254, 140,   0,   0,   0,   0,\n",
       "          0,   0],\n",
       "       [  0,   0,   0,   0,   0,   0,   0,   0,   0,   0,   0,  17,  66,\n",
       "         14,  67,  67,  67,  59,  21, 236, 254, 106,   0,   0,   0,   0,\n",
       "          0,   0],\n",
       "       [  0,   0,   0,   0,   0,   0,   0,   0,   0,   0,   0,   0,   0,\n",
       "          0,   0,   0,   0,   0,  83, 253, 209,  18,   0,   0,   0,   0,\n",
       "          0,   0],\n",
       "       [  0,   0,   0,   0,   0,   0,   0,   0,   0,   0,   0,   0,   0,\n",
       "          0,   0,   0,   0,  22, 233, 255,  83,   0,   0,   0,   0,   0,\n",
       "          0,   0],\n",
       "       [  0,   0,   0,   0,   0,   0,   0,   0,   0,   0,   0,   0,   0,\n",
       "          0,   0,   0,   0, 129, 254, 238,  44,   0,   0,   0,   0,   0,\n",
       "          0,   0],\n",
       "       [  0,   0,   0,   0,   0,   0,   0,   0,   0,   0,   0,   0,   0,\n",
       "          0,   0,   0,  59, 249, 254,  62,   0,   0,   0,   0,   0,   0,\n",
       "          0,   0],\n",
       "       [  0,   0,   0,   0,   0,   0,   0,   0,   0,   0,   0,   0,   0,\n",
       "          0,   0,   0, 133, 254, 187,   5,   0,   0,   0,   0,   0,   0,\n",
       "          0,   0],\n",
       "       [  0,   0,   0,   0,   0,   0,   0,   0,   0,   0,   0,   0,   0,\n",
       "          0,   0,   9, 205, 248,  58,   0,   0,   0,   0,   0,   0,   0,\n",
       "          0,   0],\n",
       "       [  0,   0,   0,   0,   0,   0,   0,   0,   0,   0,   0,   0,   0,\n",
       "          0,   0, 126, 254, 182,   0,   0,   0,   0,   0,   0,   0,   0,\n",
       "          0,   0],\n",
       "       [  0,   0,   0,   0,   0,   0,   0,   0,   0,   0,   0,   0,   0,\n",
       "          0,  75, 251, 240,  57,   0,   0,   0,   0,   0,   0,   0,   0,\n",
       "          0,   0],\n",
       "       [  0,   0,   0,   0,   0,   0,   0,   0,   0,   0,   0,   0,   0,\n",
       "         19, 221, 254, 166,   0,   0,   0,   0,   0,   0,   0,   0,   0,\n",
       "          0,   0],\n",
       "       [  0,   0,   0,   0,   0,   0,   0,   0,   0,   0,   0,   0,   3,\n",
       "        203, 254, 219,  35,   0,   0,   0,   0,   0,   0,   0,   0,   0,\n",
       "          0,   0],\n",
       "       [  0,   0,   0,   0,   0,   0,   0,   0,   0,   0,   0,   0,  38,\n",
       "        254, 254,  77,   0,   0,   0,   0,   0,   0,   0,   0,   0,   0,\n",
       "          0,   0],\n",
       "       [  0,   0,   0,   0,   0,   0,   0,   0,   0,   0,   0,  31, 224,\n",
       "        254, 115,   1,   0,   0,   0,   0,   0,   0,   0,   0,   0,   0,\n",
       "          0,   0],\n",
       "       [  0,   0,   0,   0,   0,   0,   0,   0,   0,   0,   0, 133, 254,\n",
       "        254,  52,   0,   0,   0,   0,   0,   0,   0,   0,   0,   0,   0,\n",
       "          0,   0],\n",
       "       [  0,   0,   0,   0,   0,   0,   0,   0,   0,   0,  61, 242, 254,\n",
       "        254,  52,   0,   0,   0,   0,   0,   0,   0,   0,   0,   0,   0,\n",
       "          0,   0],\n",
       "       [  0,   0,   0,   0,   0,   0,   0,   0,   0,   0, 121, 254, 254,\n",
       "        219,  40,   0,   0,   0,   0,   0,   0,   0,   0,   0,   0,   0,\n",
       "          0,   0],\n",
       "       [  0,   0,   0,   0,   0,   0,   0,   0,   0,   0, 121, 254, 207,\n",
       "         18,   0,   0,   0,   0,   0,   0,   0,   0,   0,   0,   0,   0,\n",
       "          0,   0],\n",
       "       [  0,   0,   0,   0,   0,   0,   0,   0,   0,   0,   0,   0,   0,\n",
       "          0,   0,   0,   0,   0,   0,   0,   0,   0,   0,   0,   0,   0,\n",
       "          0,   0]], dtype=uint8)"
      ]
     },
     "execution_count": 11,
     "metadata": {},
     "output_type": "execute_result"
    }
   ],
   "source": [
    "# test image index 0\n",
    "test_img_array[0]"
   ]
  },
  {
   "cell_type": "code",
   "execution_count": 12,
   "id": "6a0e37b6",
   "metadata": {},
   "outputs": [],
   "source": [
    "#****NEEDS TO BE COMMENTED OUT WHEN FITTING MODEL. CAUSES KERNEL TO DIE*****\n",
    "#display as an image\n",
    "#plt.imshow(test_img_array [0], cmap=plt.cm.binary)"
   ]
  },
  {
   "cell_type": "code",
   "execution_count": 13,
   "id": "a04821e1",
   "metadata": {},
   "outputs": [
    {
     "data": {
      "text/plain": [
       "9"
      ]
     },
     "execution_count": 13,
     "metadata": {},
     "output_type": "execute_result"
    }
   ],
   "source": [
    "# train label index [1] -- matches with image of train image [4]\n",
    "train_label_array[4]"
   ]
  },
  {
   "cell_type": "code",
   "execution_count": 14,
   "id": "98d55643",
   "metadata": {},
   "outputs": [
    {
     "data": {
      "text/plain": [
       "7"
      ]
     },
     "execution_count": 14,
     "metadata": {},
     "output_type": "execute_result"
    }
   ],
   "source": [
    "# test label index [0] -- matches with the image of test image [0]\n",
    "test_label_array[0]"
   ]
  },
  {
   "cell_type": "markdown",
   "id": "641605b4",
   "metadata": {},
   "source": [
    "## Data Preprocessing"
   ]
  },
  {
   "cell_type": "markdown",
   "id": "462d46c5",
   "metadata": {},
   "source": [
    "### Set Constants"
   ]
  },
  {
   "cell_type": "code",
   "execution_count": 15,
   "id": "d00fa4a9",
   "metadata": {},
   "outputs": [],
   "source": [
    "# number of data points - e.g. train data has 60,000 data points\n",
    "NUM_TRAIN_DATA=train_img_array.shape[0]\n",
    "NUM_TEST_DATA=test_img_array.shape[0]\n",
    "\n",
    "# 28px*28px image = 784 dimensions \n",
    "DIMENSIONS=784\n",
    "# 10 outputs from 0 to 9 is expected \n",
    "OUTPUT=10"
   ]
  },
  {
   "cell_type": "markdown",
   "id": "34f39e22",
   "metadata": {},
   "source": [
    "### Image Data Preprocessing"
   ]
  },
  {
   "cell_type": "code",
   "execution_count": 16,
   "id": "427e512f",
   "metadata": {},
   "outputs": [
    {
     "data": {
      "text/plain": [
       "(60000, 784)"
      ]
     },
     "execution_count": 16,
     "metadata": {},
     "output_type": "execute_result"
    }
   ],
   "source": [
    "# flatten train image data array into single dimension \n",
    "re_train_data=np.reshape(train_img_array, [NUM_TRAIN_DATA, DIMENSIONS])\n",
    "re_train_data.shape"
   ]
  },
  {
   "cell_type": "code",
   "execution_count": 17,
   "id": "f4b22b16",
   "metadata": {},
   "outputs": [
    {
     "data": {
      "text/plain": [
       "(10000, 784)"
      ]
     },
     "execution_count": 17,
     "metadata": {},
     "output_type": "execute_result"
    }
   ],
   "source": [
    "# flatten test image data array into single dimension \n",
    "re_test_data=np.reshape(test_img_array, [NUM_TEST_DATA, DIMENSIONS])\n",
    "re_test_data.shape"
   ]
  },
  {
   "cell_type": "code",
   "execution_count": 18,
   "id": "c6d1f070",
   "metadata": {},
   "outputs": [],
   "source": [
    "# image data array is a number between 0 and 225. 0 = white, 255 = black, grey in between\n",
    "# convert dat into digit between 0 and 1\n",
    "train_data, test_data= re_train_data/255.0, re_test_data/255.0"
   ]
  },
  {
   "cell_type": "markdown",
   "id": "28c7b4bc",
   "metadata": {},
   "source": [
    "### Label Data Preprocessing - one hot encoding"
   ]
  },
  {
   "cell_type": "code",
   "execution_count": 19,
   "id": "f6da59e2",
   "metadata": {},
   "outputs": [
    {
     "data": {
      "text/plain": [
       "array([[1., 0., 0., 0., 0., 0., 0., 0., 0., 0.],\n",
       "       [0., 1., 0., 0., 0., 0., 0., 0., 0., 0.],\n",
       "       [0., 0., 1., 0., 0., 0., 0., 0., 0., 0.],\n",
       "       [0., 0., 0., 1., 0., 0., 0., 0., 0., 0.],\n",
       "       [0., 0., 0., 0., 1., 0., 0., 0., 0., 0.],\n",
       "       [0., 0., 0., 0., 0., 1., 0., 0., 0., 0.],\n",
       "       [0., 0., 0., 0., 0., 0., 1., 0., 0., 0.],\n",
       "       [0., 0., 0., 0., 0., 0., 0., 1., 0., 0.],\n",
       "       [0., 0., 0., 0., 0., 0., 0., 0., 1., 0.],\n",
       "       [0., 0., 0., 0., 0., 0., 0., 0., 0., 1.]])"
      ]
     },
     "execution_count": 19,
     "metadata": {},
     "output_type": "execute_result"
    }
   ],
   "source": [
    "np.eye(10)"
   ]
  },
  {
   "cell_type": "code",
   "execution_count": 20,
   "id": "32580b90",
   "metadata": {},
   "outputs": [],
   "source": [
    "#convert lables to the format above, 10 because there are 0 to 9, i.e. 10 digits  \n",
    "train_label=np.eye(10)[train_label_array]\n",
    "test_label=np.eye(10)[test_label_array]"
   ]
  },
  {
   "cell_type": "code",
   "execution_count": 21,
   "id": "9640379a",
   "metadata": {},
   "outputs": [
    {
     "data": {
      "text/plain": [
       "array([0., 0., 0., 0., 0., 0., 0., 0., 0., 1.])"
      ]
     },
     "execution_count": 21,
     "metadata": {},
     "output_type": "execute_result"
    }
   ],
   "source": [
    "# indicates number 9 \n",
    "train_label[4]"
   ]
  },
  {
   "cell_type": "code",
   "execution_count": 22,
   "id": "c0b449ad",
   "metadata": {},
   "outputs": [
    {
     "data": {
      "text/plain": [
       "array([0., 0., 0., 0., 0., 0., 0., 1., 0., 0.])"
      ]
     },
     "execution_count": 22,
     "metadata": {},
     "output_type": "execute_result"
    }
   ],
   "source": [
    "# indicates number 7\n",
    "test_label[0]"
   ]
  },
  {
   "cell_type": "markdown",
   "id": "f87df54e",
   "metadata": {},
   "source": [
    "## Set Up the Model"
   ]
  },
  {
   "cell_type": "markdown",
   "id": "3e82d4c3",
   "metadata": {},
   "source": [
    "### Investigaet the Effect of Number of Neurons in Each Layer\n",
    "#### -- Model 1 to 3 have different number of neurons in hidden layers."
   ]
  },
  {
   "cell_type": "code",
   "execution_count": 23,
   "id": "897637ae",
   "metadata": {},
   "outputs": [],
   "source": [
    "# set up Model 1 \n",
    "\n",
    "model1 = Sequential()\n",
    "# Hidden layer 1 - number of neurons set at 2/3 of initial input of 784=DIMENSIONS  \n",
    "model1.add(Dense(523, activation='relu',input_dim=DIMENSIONS, name='hidden-layer1'))\n",
    "# Hidden layer 2 - number of neurons set at 2/3 of input from first layer of 523\n",
    "model1.add(Dense(348, activation='relu',name='hidden-layer2'))\n",
    "# Output layer - out put layer has 10 neurons indicating number 0 to 9 \n",
    "model1.add(Dense(OUTPUT, activation='softmax',name='output-layer'))\n",
    "\n",
    "# compile the model \n",
    "# set optimzer, loss \n",
    "model1.compile(optimizer='adam', loss='categorical_crossentropy',metrics=['accuracy'])"
   ]
  },
  {
   "cell_type": "code",
   "execution_count": 24,
   "id": "243f131e",
   "metadata": {
    "scrolled": true
   },
   "outputs": [
    {
     "name": "stdout",
     "output_type": "stream",
     "text": [
      "Model: \"sequential\"\n",
      "_________________________________________________________________\n",
      "Layer (type)                 Output Shape              Param #   \n",
      "=================================================================\n",
      "hidden-layer1 (Dense)        (None, 523)               410555    \n",
      "_________________________________________________________________\n",
      "hidden-layer2 (Dense)        (None, 348)               182352    \n",
      "_________________________________________________________________\n",
      "output-layer (Dense)         (None, 10)                3490      \n",
      "=================================================================\n",
      "Total params: 596,397\n",
      "Trainable params: 596,397\n",
      "Non-trainable params: 0\n",
      "_________________________________________________________________\n"
     ]
    }
   ],
   "source": [
    "model1.summary()\n",
    "\n",
    "# Param # = initial input 784 * first layer neurons 523 + bias "
   ]
  },
  {
   "cell_type": "markdown",
   "id": "ce7d9563",
   "metadata": {},
   "source": [
    "## Model 2"
   ]
  },
  {
   "cell_type": "code",
   "execution_count": 25,
   "id": "01e94dad",
   "metadata": {},
   "outputs": [],
   "source": [
    "# Set up Model 2 \n",
    "\n",
    "model2=Sequential()\n",
    "# Hidden layer 1 - # Input layer - number of neurons set at 1/3 of initial input of 784=DIMENSIONS  \n",
    "model2.add(Dense(261, activation='relu',input_dim=DIMENSIONS, name='hidden-layer1'))\n",
    "# Hidden layer 2 - # Input layer - number of neurons set at 1/3 of initial input of 261  \n",
    "model2.add(Dense(87, activation='relu',name='hidden-layer2'))\n",
    "# Output layer\n",
    "model2.add(Dense(OUTPUT, activation='softmax',name='output-layer'))\n",
    "\n",
    "# compile the model \n",
    "model2.compile(optimizer='adam', loss='categorical_crossentropy',metrics=['accuracy'])"
   ]
  },
  {
   "cell_type": "code",
   "execution_count": 26,
   "id": "152cbb39",
   "metadata": {},
   "outputs": [
    {
     "name": "stdout",
     "output_type": "stream",
     "text": [
      "Model: \"sequential_1\"\n",
      "_________________________________________________________________\n",
      "Layer (type)                 Output Shape              Param #   \n",
      "=================================================================\n",
      "hidden-layer1 (Dense)        (None, 261)               204885    \n",
      "_________________________________________________________________\n",
      "hidden-layer2 (Dense)        (None, 87)                22794     \n",
      "_________________________________________________________________\n",
      "output-layer (Dense)         (None, 10)                880       \n",
      "=================================================================\n",
      "Total params: 228,559\n",
      "Trainable params: 228,559\n",
      "Non-trainable params: 0\n",
      "_________________________________________________________________\n"
     ]
    }
   ],
   "source": [
    "model2.summary()"
   ]
  },
  {
   "cell_type": "markdown",
   "id": "c521235e",
   "metadata": {},
   "source": [
    "## Model 3"
   ]
  },
  {
   "cell_type": "code",
   "execution_count": 27,
   "id": "85592c84",
   "metadata": {},
   "outputs": [],
   "source": [
    "# Set up Model 3\n",
    "\n",
    "model3=Sequential()\n",
    "# Hidden layer 1 - number of neurons set at 1.5 * initial input of 784\n",
    "model3.add(Dense(1176, activation='relu',input_dim=DIMENSIONS, name='hidden-layer1'))\n",
    "# Hidden layer 2 - number of neurons set at 2/3 first layer input of 1176\n",
    "model3.add(Dense(784, activation='relu',name='hidden-layer2'))\n",
    "# Output layer\n",
    "model3.add(Dense(OUTPUT, activation='softmax',name='output-layer'))\n",
    "\n",
    "# compile the model \n",
    "model3.compile(optimizer='adam', loss='categorical_crossentropy',metrics=['accuracy'])"
   ]
  },
  {
   "cell_type": "code",
   "execution_count": 28,
   "id": "5e46e273",
   "metadata": {},
   "outputs": [
    {
     "name": "stdout",
     "output_type": "stream",
     "text": [
      "Model: \"sequential_2\"\n",
      "_________________________________________________________________\n",
      "Layer (type)                 Output Shape              Param #   \n",
      "=================================================================\n",
      "hidden-layer1 (Dense)        (None, 1176)              923160    \n",
      "_________________________________________________________________\n",
      "hidden-layer2 (Dense)        (None, 784)               922768    \n",
      "_________________________________________________________________\n",
      "output-layer (Dense)         (None, 10)                7850      \n",
      "=================================================================\n",
      "Total params: 1,853,778\n",
      "Trainable params: 1,853,778\n",
      "Non-trainable params: 0\n",
      "_________________________________________________________________\n"
     ]
    }
   ],
   "source": [
    "model3.summary()"
   ]
  },
  {
   "cell_type": "markdown",
   "id": "525654ce",
   "metadata": {},
   "source": [
    "## Enable Visualization with Tensorboard"
   ]
  },
  {
   "cell_type": "code",
   "execution_count": 29,
   "id": "761f21cb",
   "metadata": {},
   "outputs": [],
   "source": [
    "LOG_DIR='tensorboard_logs/'\n"
   ]
  },
  {
   "cell_type": "code",
   "execution_count": 30,
   "id": "fe6d9e22",
   "metadata": {},
   "outputs": [],
   "source": [
    "# Function to create a directory when models are trained. To be embedded into model.fit callback\n",
    "\n",
    "def create_tensorboard(model_name): \n",
    "    folder_name=f'{model_name} @ {strftime(\"%D %H %M\")}'\n",
    "    dir_path=os.path.join(LOG_DIR, folder_name)\n",
    "\n",
    "    try:\n",
    "        os.makedirs(dir_path)\n",
    "    except OSError as e:\n",
    "        print(e.strerror)\n",
    "    else:\n",
    "        print('Created directory')\n",
    "    \n",
    "    return TensorBoard(log_dir=dir_path)"
   ]
  },
  {
   "cell_type": "markdown",
   "id": "8ef84cd0",
   "metadata": {},
   "source": [
    "## Fit the Model"
   ]
  },
  {
   "cell_type": "code",
   "execution_count": 31,
   "id": "8d02619c",
   "metadata": {},
   "outputs": [],
   "source": [
    "# Set batch size and Epoch\n",
    "datapoints_per_batch=1000\n",
    "num_epochs=30"
   ]
  },
  {
   "cell_type": "code",
   "execution_count": 32,
   "id": "ad1cecc4",
   "metadata": {},
   "outputs": [
    {
     "name": "stdout",
     "output_type": "stream",
     "text": [
      "Created directory\n"
     ]
    },
    {
     "data": {
      "text/plain": [
       "<keras.callbacks.History at 0x1f676113a00>"
      ]
     },
     "execution_count": 32,
     "metadata": {},
     "output_type": "execute_result"
    }
   ],
   "source": [
    "# Train Model 1 \n",
    "model1.fit(train_data, train_label, validation_split=0.2, batch_size=datapoints_per_batch,\n",
    "          epochs=num_epochs, callbacks=[create_tensorboard('Model_1')], verbose=0)"
   ]
  },
  {
   "cell_type": "code",
   "execution_count": 33,
   "id": "a97c2987",
   "metadata": {},
   "outputs": [
    {
     "name": "stdout",
     "output_type": "stream",
     "text": [
      "Created directory\n"
     ]
    },
    {
     "data": {
      "text/plain": [
       "<keras.callbacks.History at 0x1f67c8be220>"
      ]
     },
     "execution_count": 33,
     "metadata": {},
     "output_type": "execute_result"
    }
   ],
   "source": [
    "# Train Model 2\n",
    "model2.fit(train_data, train_label, validation_split=0.2, batch_size=datapoints_per_batch,\n",
    "          epochs=num_epochs, callbacks=[create_tensorboard('Model_2')], verbose=0)"
   ]
  },
  {
   "cell_type": "code",
   "execution_count": 34,
   "id": "a55ec666",
   "metadata": {},
   "outputs": [
    {
     "name": "stdout",
     "output_type": "stream",
     "text": [
      "Created directory\n"
     ]
    },
    {
     "data": {
      "text/plain": [
       "<keras.callbacks.History at 0x1f60ab3ba60>"
      ]
     },
     "execution_count": 34,
     "metadata": {},
     "output_type": "execute_result"
    }
   ],
   "source": [
    "# Train Model 3\n",
    "model3.fit(train_data, train_label, validation_split=0.2, batch_size=datapoints_per_batch,\n",
    "          epochs=num_epochs, callbacks=[create_tensorboard('Model_3')], verbose=0)"
   ]
  },
  {
   "cell_type": "markdown",
   "id": "7556cd11",
   "metadata": {},
   "source": [
    "## Regularization - Preventing Overfitting\n",
    "### -- Dropout and Early Stopping "
   ]
  },
  {
   "cell_type": "code",
   "execution_count": 35,
   "id": "03239df4",
   "metadata": {},
   "outputs": [],
   "source": [
    "# Set up model 4 - based on model3 but with dropout \n",
    "\n",
    "model4=Sequential()\n",
    "# add dropout\n",
    "model4.add(Dropout(0.2, seed=42, input_shape=(DIMENSIONS,)))\n",
    "# Hidden layer 1 \n",
    "model4.add(Dense(1176, activation='relu',name='hidden-layer1'))\n",
    "# Hidden layer 2 \n",
    "model4.add(Dense(784, activation='relu',name='hidden-layer2'))\n",
    "# Output layer\n",
    "model4.add(Dense(OUTPUT, activation='softmax',name='output-layer'))\n",
    "\n",
    "# compile the model \n",
    "model4.compile(optimizer='adam', loss='categorical_crossentropy',metrics=['accuracy'])"
   ]
  },
  {
   "cell_type": "code",
   "execution_count": 36,
   "id": "d6fef03f",
   "metadata": {},
   "outputs": [
    {
     "name": "stdout",
     "output_type": "stream",
     "text": [
      "Model: \"sequential_3\"\n",
      "_________________________________________________________________\n",
      "Layer (type)                 Output Shape              Param #   \n",
      "=================================================================\n",
      "dropout (Dropout)            (None, 784)               0         \n",
      "_________________________________________________________________\n",
      "hidden-layer1 (Dense)        (None, 1176)              923160    \n",
      "_________________________________________________________________\n",
      "hidden-layer2 (Dense)        (None, 784)               922768    \n",
      "_________________________________________________________________\n",
      "output-layer (Dense)         (None, 10)                7850      \n",
      "=================================================================\n",
      "Total params: 1,853,778\n",
      "Trainable params: 1,853,778\n",
      "Non-trainable params: 0\n",
      "_________________________________________________________________\n"
     ]
    }
   ],
   "source": [
    "model4.summary()"
   ]
  },
  {
   "cell_type": "code",
   "execution_count": 37,
   "id": "836c4405",
   "metadata": {},
   "outputs": [
    {
     "name": "stdout",
     "output_type": "stream",
     "text": [
      "Created directory\n"
     ]
    },
    {
     "data": {
      "text/plain": [
       "<keras.callbacks.History at 0x1f600049d90>"
      ]
     },
     "execution_count": 37,
     "metadata": {},
     "output_type": "execute_result"
    }
   ],
   "source": [
    "# Embed Earlystopping \n",
    "earlystop = EarlyStopping(monitor='val_loss',patience=3)\n",
    "\n",
    "model4.fit(train_data, train_label, validation_split=0.2, batch_size=datapoints_per_batch,\n",
    "          epochs=num_epochs, callbacks=[earlystop, create_tensorboard('Model_4_D')], verbose=0)"
   ]
  },
  {
   "cell_type": "markdown",
   "id": "b005bc2f",
   "metadata": {},
   "source": [
    "## Model Evaluation\n",
    "### -- Based on Model 4 "
   ]
  },
  {
   "cell_type": "markdown",
   "id": "478d49f8",
   "metadata": {},
   "source": [
    "### Predictions"
   ]
  },
  {
   "cell_type": "code",
   "execution_count": 38,
   "id": "f50d7b59",
   "metadata": {},
   "outputs": [
    {
     "data": {
      "text/plain": [
       "array([[4.4e-08, 5.9e-10, 5.6e-08, 4.0e-06, 1.7e-10, 3.2e-09, 9.6e-14,\n",
       "        1.0e+00, 6.2e-08, 1.7e-05]], dtype=float32)"
      ]
     },
     "execution_count": 38,
     "metadata": {},
     "output_type": "execute_result"
    }
   ],
   "source": [
    "# Predict one test data point \n",
    "np.set_printoptions(precision=1)\n",
    "test=np.expand_dims(test_data[0], axis=0)\n",
    "pred=model4.predict(test)\n",
    "pred\n",
    "# 7th index has highest probability = predicted digit is 7\n",
    "# Below indicates an array of probabilites of image [0] being 0 ... 9. Sums up to 1.0 as a result of using softmax "
   ]
  },
  {
   "cell_type": "code",
   "execution_count": 39,
   "id": "029a9e49",
   "metadata": {},
   "outputs": [
    {
     "data": {
      "text/plain": [
       "array([7], dtype=int64)"
      ]
     },
     "execution_count": 39,
     "metadata": {},
     "output_type": "execute_result"
    }
   ],
   "source": [
    "# Alternative way to display the prediction. Result equivalent to above\n",
    "pred_class=np.argmax(pred,axis=1)\n",
    "pred_class"
   ]
  },
  {
   "cell_type": "code",
   "execution_count": 40,
   "id": "89c26423",
   "metadata": {},
   "outputs": [
    {
     "data": {
      "text/plain": [
       "array([0., 0., 0., 0., 0., 0., 0., 1., 0., 0.])"
      ]
     },
     "execution_count": 40,
     "metadata": {},
     "output_type": "execute_result"
    }
   ],
   "source": [
    "# verify using test label data and first image in test data is 7 \n",
    "test_label[0]"
   ]
  },
  {
   "cell_type": "markdown",
   "id": "6a308a3f",
   "metadata": {},
   "source": [
    "### Loss and Accuracy"
   ]
  },
  {
   "cell_type": "code",
   "execution_count": 41,
   "id": "c7f5f4bd",
   "metadata": {},
   "outputs": [
    {
     "data": {
      "text/plain": [
       "['loss', 'accuracy']"
      ]
     },
     "execution_count": 41,
     "metadata": {},
     "output_type": "execute_result"
    }
   ],
   "source": [
    "# Model 4 returns two metrics \"loss\" and \"accuracy\"\n",
    "model4.metrics_names"
   ]
  },
  {
   "cell_type": "code",
   "execution_count": 42,
   "id": "a900b3b1",
   "metadata": {},
   "outputs": [
    {
     "name": "stdout",
     "output_type": "stream",
     "text": [
      "313/313 [==============================] - 1s 2ms/step - loss: 0.0658 - accuracy: 0.9817\n",
      "Model 4 has loss of 0.0658 and accuracy of 98.17%\n"
     ]
    }
   ],
   "source": [
    "# Display the loss and accuracy\n",
    "test_loss, test_accuracy=model4.evaluate(test_data,test_label)\n",
    "print(f'Model 4 has loss of {test_loss:0.3} and accuracy of {test_accuracy:0.2%}')"
   ]
  },
  {
   "cell_type": "markdown",
   "id": "05f497f8",
   "metadata": {},
   "source": [
    "### Confusion Matrix"
   ]
  },
  {
   "cell_type": "code",
   "execution_count": 43,
   "id": "ee3beb67",
   "metadata": {},
   "outputs": [],
   "source": [
    "model_pred=model4.predict(test_data)"
   ]
  },
  {
   "cell_type": "code",
   "execution_count": 44,
   "id": "3b5cb371",
   "metadata": {},
   "outputs": [
    {
     "data": {
      "text/plain": [
       "array([[4.4e-08, 5.9e-10, 5.6e-08, ..., 1.0e+00, 6.2e-08, 1.7e-05],\n",
       "       [6.8e-12, 1.7e-08, 1.0e+00, ..., 7.0e-14, 8.4e-11, 1.5e-15],\n",
       "       [2.1e-06, 1.0e+00, 2.9e-05, ..., 4.1e-05, 5.3e-05, 1.3e-06],\n",
       "       ...,\n",
       "       [4.1e-12, 5.4e-11, 5.2e-13, ..., 2.8e-09, 5.9e-08, 5.9e-07],\n",
       "       [6.6e-10, 1.2e-12, 1.6e-12, ..., 5.0e-11, 6.3e-06, 1.2e-10],\n",
       "       [8.7e-09, 2.1e-12, 2.1e-10, ..., 1.5e-16, 1.8e-11, 1.0e-12]],\n",
       "      dtype=float32)"
      ]
     },
     "execution_count": 44,
     "metadata": {},
     "output_type": "execute_result"
    }
   ],
   "source": [
    "model_pred"
   ]
  },
  {
   "cell_type": "code",
   "execution_count": 45,
   "id": "38d00ef5",
   "metadata": {},
   "outputs": [
    {
     "data": {
      "text/plain": [
       "array([7, 2, 1, ..., 4, 5, 6], dtype=int64)"
      ]
     },
     "execution_count": 45,
     "metadata": {},
     "output_type": "execute_result"
    }
   ],
   "source": [
    "pred_class=np.argmax(model4.predict(test_data), axis=1)\n",
    "pred_class"
   ]
  },
  {
   "cell_type": "code",
   "execution_count": 46,
   "id": "8f4a1a49",
   "metadata": {},
   "outputs": [],
   "source": [
    "conf_matrix=confusion_matrix(y_true=test_label_array, y_pred=pred_class)"
   ]
  },
  {
   "cell_type": "code",
   "execution_count": 47,
   "id": "1fc3775d",
   "metadata": {},
   "outputs": [
    {
     "data": {
      "image/png": "[encoded data removed]",
      "text/plain": [
       "<Figure size 700x700 with 2 Axes>"
      ]
     },
     "metadata": {},
     "output_type": "display_data"
    }
   ],
   "source": [
    "plt.figure(figsize=(7,7))\n",
    "plt.imshow(conf_matrix, cmap=plt.cm.Purples)\n",
    "\n",
    "plt.title('Confusion Matrix', fontsize=14)\n",
    "plt.ylabel('Actual', fontsize=10)\n",
    "plt.xlabel('Predicted', fontsize=10)\n",
    "\n",
    "plt.yticks(np.arange(0,10, step=1))\n",
    "plt.xticks(np.arange(0,10, step=1))\n",
    "plt.colorbar()\n",
    "\n",
    "# display the values\n",
    "for i, j in itertools.product(range(10), range(10)):\n",
    "    plt.text(j, i, conf_matrix[i,j], horizontalalignment='center', \n",
    "            color='white' if conf_matrix[i,j]>800 else 'black')\n",
    "# diagonal shows the true postives \n",
    "plt.show()"
   ]
  },
  {
   "cell_type": "markdown",
   "id": "fdbd11c3",
   "metadata": {},
   "source": [
    "### Recall Score, Precision and F-Score"
   ]
  },
  {
   "cell_type": "code",
   "execution_count": 48,
   "id": "9e331c11",
   "metadata": {},
   "outputs": [
    {
     "name": "stdout",
     "output_type": "stream",
     "text": [
      "Recall Score for (0,) is: 0.994\n",
      "Recall Score for (1,) is: 0.992\n",
      "Recall Score for (2,) is: 0.98\n",
      "Recall Score for (3,) is: 0.988\n",
      "Recall Score for (4,) is: 0.978\n",
      "Recall Score for (5,) is: 0.971\n",
      "Recall Score for (6,) is: 0.977\n",
      "Recall Score for (7,) is: 0.974\n",
      "Recall Score for (8,) is: 0.979\n",
      "Recall Score for (9,) is: 0.982\n"
     ]
    }
   ],
   "source": [
    "# Recall Score\n",
    "true_pos=np.diag(conf_matrix)\n",
    "recall_score=true_pos/np.sum(conf_matrix, axis=1)  #sum the rows\n",
    "\n",
    "for i in itertools.product(range(10)):\n",
    "    print(f'Recall Score for {i} is: {recall_score[i]:0.3}')"
   ]
  },
  {
   "cell_type": "code",
   "execution_count": 49,
   "id": "136d7bfe",
   "metadata": {},
   "outputs": [
    {
     "name": "stdout",
     "output_type": "stream",
     "text": [
      "Precision for (0,) is: 0.968\n",
      "Precision for (1,) is: 0.993\n",
      "Precision for (2,) is: 0.981\n",
      "Precision for (3,) is: 0.971\n",
      "Precision for (4,) is: 0.988\n",
      "Precision for (5,) is: 0.991\n",
      "Precision for (6,) is: 0.99\n",
      "Precision for (7,) is: 0.985\n",
      "Precision for (8,) is: 0.979\n",
      "Precision for (9,) is: 0.972\n"
     ]
    }
   ],
   "source": [
    "# Precision \n",
    "precision=true_pos/np.sum(conf_matrix, axis=0)\n",
    "for i in itertools.product(range(10)):\n",
    "    print(f'Precision for {i} is: {precision[i]:0.3}')"
   ]
  },
  {
   "cell_type": "code",
   "execution_count": 50,
   "id": "1615cc03",
   "metadata": {},
   "outputs": [
    {
     "name": "stdout",
     "output_type": "stream",
     "text": [
      "Model 4 recall score is 98.15%,\n",
      "\tprecision is 98.18%\n",
      "\tF-Score is 98.16%\n"
     ]
    }
   ],
   "source": [
    "# SUMMARY - MODEL Recall Score, Precision and F-Score\n",
    "avg_recall_score=np.mean(recall_score)\n",
    "print(f'Model 4 recall score is {avg_recall_score:0.2%},')\n",
    "\n",
    "avg_precision=np.mean(precision)\n",
    "print(f'\\tprecision is {avg_precision:0.2%}')\n",
    "\n",
    "f_score=2*(avg_precision*avg_recall_score)/(avg_precision+avg_recall_score)\n",
    "print(f'\\tF-Score is {f_score:0.2%}')\n"
   ]
  },
  {
   "cell_type": "code",
   "execution_count": 51,
   "id": "aef4c877",
   "metadata": {},
   "outputs": [],
   "source": [
    "## END "
   ]
  }
 ],
 "metadata": {
  "kernelspec": {
   "display_name": "Python 3 (ipykernel)",
   "language": "python",
   "name": "python3"
  },
  "language_info": {
   "codemirror_mode": {
    "name": "ipython",
    "version": 3
   },
   "file_extension": ".py",
   "mimetype": "text/x-python",
   "name": "python",
   "nbconvert_exporter": "python",
   "pygments_lexer": "ipython3",
   "version": "3.9.13"
  }
 },
 "nbformat": 4,
 "nbformat_minor": 5
}
